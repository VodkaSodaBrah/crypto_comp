{
 "cells": [
  {
   "cell_type": "code",
   "execution_count": null,
   "metadata": {},
   "outputs": [
    {
     "name": "stderr",
     "output_type": "stream",
     "text": [
      "/var/folders/yj/3s0hc5nn3qlg4lqp7wmfgq_c0000gn/T/ipykernel_9140/3097505686.py:11: UserWarning: Could not infer format, so each element will be parsed individually, falling back to `dateutil`. To ensure parsing is consistent and as-expected, please specify a format.\n",
      "  df = pd.read_csv(\"/Users/mchildress/Code/my_crypto_prediction/data/raw/train.csv\", parse_dates=[\"timestamp\"])\n"
     ]
    },
    {
     "name": "stdout",
     "output_type": "stream",
     "text": [
      "=== Summary Statistics ===\n",
      "         timestamp          open          high           low         close  \\\n",
      "count      2122438  2.122438e+06  2.122438e+06  2.122438e+06  2.122438e+06   \n",
      "unique     2122438           NaN           NaN           NaN           NaN   \n",
      "top     1525471260           NaN           NaN           NaN           NaN   \n",
      "freq             1           NaN           NaN           NaN           NaN   \n",
      "mean           NaN  4.971020e-01  4.976028e-01  4.965936e-01  4.971011e-01   \n",
      "std            NaN  3.147919e-01  3.152553e-01  3.143317e-01  3.147945e-01   \n",
      "min            NaN  1.057300e-01  1.068400e-01  1.012900e-01  1.058900e-01   \n",
      "25%            NaN  2.676100e-01  2.678200e-01  2.673900e-01  2.676000e-01   \n",
      "50%            NaN  3.629800e-01  3.633400e-01  3.626000e-01  3.629700e-01   \n",
      "75%            NaN  6.572000e-01  6.579550e-01  6.563000e-01  6.572000e-01   \n",
      "max            NaN  1.964710e+00  1.966890e+00  1.958350e+00  1.964710e+00   \n",
      "\n",
      "              volume  quote_asset_volume  number_of_trades  \\\n",
      "count   2.122438e+06        2.122438e+06      2.122438e+06   \n",
      "unique           NaN                 NaN               NaN   \n",
      "top              NaN                 NaN               NaN   \n",
      "freq             NaN                 NaN               NaN   \n",
      "mean    2.484890e+05        1.650106e+05      2.121758e+02   \n",
      "std     6.416383e+05        4.887013e+05      5.372650e+02   \n",
      "min     0.000000e+00        0.000000e+00      0.000000e+00   \n",
      "25%     2.498430e+04        7.835293e+03      2.700000e+01   \n",
      "50%     7.833306e+04        2.853193e+04      6.800000e+01   \n",
      "75%     2.334948e+05        1.315786e+05      1.970000e+02   \n",
      "max     6.366178e+07        3.556471e+07      4.053500e+04   \n",
      "\n",
      "        taker_buy_base_volume  taker_buy_quote_volume        target  \n",
      "count            2.122438e+06            2.122438e+06  2.122438e+06  \n",
      "unique                    NaN                     NaN           NaN  \n",
      "top                       NaN                     NaN           NaN  \n",
      "freq                      NaN                     NaN           NaN  \n",
      "mean             1.237279e+05            8.230815e+04  4.757849e-01  \n",
      "std              3.249252e+05            2.488676e+05  4.994134e-01  \n",
      "min              0.000000e+00            0.000000e+00  0.000000e+00  \n",
      "25%              1.083690e+04            3.409231e+03  0.000000e+00  \n",
      "50%              3.622145e+04            1.362004e+04  0.000000e+00  \n",
      "75%              1.145778e+05            6.322541e+04  1.000000e+00  \n",
      "max              3.087021e+07            1.602615e+07  1.000000e+00  \n"
     ]
    }
   ],
   "source": [
    "# 00_data_exploration.ipynb\n",
    "# -------------------------\n",
    "# Goal: Perform initial data exploration, basic stats, and a simple line plot.\n",
    "\n",
    "import pandas as pd\n",
    "import seaborn as sns\n",
    "import matplotlib.pyplot as plt\n",
    "\n",
    "# 1. Load raw data\n",
    "# Adjust the path to match your dataset\n",
    "df = pd.read_csv(\"/Users/mchildress/Code/my_crypto_prediction/data/raw/train.csv\", parse_dates=[\"timestamp\"])\n",
    "\n",
    "# 2. Print summary statistics\n",
    "print(\"=== Summary Statistics ===\")\n",
    "print(df.describe(include=\"all\"))\n",
    "\n",
    "# 3. Basic line plot over time with sampling to reduce rendering load\n",
    "df_sample = df.sample(frac=0.1, random_state=42)  # Use 10% of the data\n",
    "plt.figure(figsize=(12, 6))\n",
    "sns.lineplot(x=\"timestamp\", y=\"close\", data=df_sample, label=\"Close Price\")\n",
    "plt.title(\"Closing Price Over Time (Sampled)\")\n",
    "plt.xlabel(\"Timestamp\")\n",
    "plt.ylabel(\"Close Price\")\n",
    "plt.legend()\n",
    "plt.show()\n",
    "\n",
    "# 4. Check for missing values\n",
    "print(\"\\n=== Missing Value Counts ===\")\n",
    "print(df.isnull().sum())\n",
    "\n",
    "# 5. Inspect first few rows\n",
    "print(\"\\n=== Head of DataFrame ===\")\n",
    "print(df.head())\n",
    "\n",
    "# 6. Save a filtered version of the dataset (optional)\n",
    "# Filter the data to a specific range for easier visualization or analysis\n",
    "df_filtered = df[df[\"timestamp\"].between(\"2022-01-01\", \"2022-01-07\")]\n",
    "df_filtered.to_csv(\"/Users/mchildress/Code/my_crypto_prediction/data/intermediate/train_filtered.csv\", index=False)\n",
    "print(\"\\nFiltered data saved to 'data/intermediate/train_filtered.csv'\")"
   ]
  }
 ],
 "metadata": {
  "kernelspec": {
   "display_name": "my_crypto_env",
   "language": "python",
   "name": "python3"
  },
  "language_info": {
   "codemirror_mode": {
    "name": "ipython",
    "version": 3
   },
   "file_extension": ".py",
   "mimetype": "text/x-python",
   "name": "python",
   "nbconvert_exporter": "python",
   "pygments_lexer": "ipython3",
   "version": "3.11.11"
  }
 },
 "nbformat": 4,
 "nbformat_minor": 2
}
