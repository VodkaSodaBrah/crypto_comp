{
 "cells": [
  {
   "cell_type": "code",
   "execution_count": null,
   "metadata": {
    "vscode": {
     "languageId": "plaintext"
    }
   },
   "outputs": [],
   "source": [
    "import numpy as np\n",
    "\n",
    "# Add a log return feature\n",
    "df[\"log_return\"] = np.log(df[\"close\"] / df[\"close\"].shift(1))\n",
    "\n",
    "# Add a 5-minute simple moving average (SMA)\n",
    "df[\"sma_5\"] = df[\"close\"].rolling(window=5).mean()\n",
    "\n",
    "# Visualize SMA and price\n",
    "plt.figure(figsize=(12, 6))\n",
    "sns.lineplot(x=df[\"timestamp\"], y=df[\"close\"], label=\"Close Price\")\n",
    "sns.lineplot(x=df[\"timestamp\"], y=df[\"sma_5\"], label=\"SMA (5)\")\n",
    "plt.legend()\n",
    "plt.show()"
   ]
  }
 ],
 "metadata": {
  "language_info": {
   "name": "python"
  }
 },
 "nbformat": 4,
 "nbformat_minor": 2
}
